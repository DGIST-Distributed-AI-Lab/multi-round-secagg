{
 "cells": [
  {
   "cell_type": "code",
   "execution_count": 6,
   "metadata": {},
   "outputs": [
    {
     "name": "stdout",
     "output_type": "stream",
     "text": [
      "4\n"
     ]
    }
   ],
   "source": [
    "import numpy as np\n",
    "\n",
    "import operator as op\n",
    "from functools import reduce\n",
    "\n",
    "def ncr(n, r):\n",
    "    r = min(r, n-r)\n",
    "    numer = reduce(op.mul, range(n, n-r, -1), 1)\n",
    "    denom = reduce(op.mul, range(1, r+1), 1)\n",
    "    return numer // denom  # or / in Python 2\n",
    "\n",
    "print(ncr(4,3))"
   ]
  },
  {
   "cell_type": "code",
   "execution_count": 36,
   "metadata": {},
   "outputs": [
    {
     "name": "stdout",
     "output_type": "stream",
     "text": [
      "2 1.0\n",
      "\n",
      "4 1.0\n",
      "\n",
      "5 0.9999999999317548\n",
      "\n",
      "10 8.653982597195409e-08\n",
      "\n",
      "20 0.0\n",
      "\n"
     ]
    }
   ],
   "source": [
    "p = 0.5\n",
    "\n",
    "# N, K, T = 100000000, 20, 20\n",
    "\n",
    "N = 10000\n",
    "K = 100\n",
    "\n",
    "T_array = [2,4,5,10,20]\n",
    "\n",
    "prob_array = []\n",
    "\n",
    "for T in T_array:\n",
    "    \n",
    "#     print(N)\n",
    "    q = 1- (1-p)**T\n",
    "\n",
    "#     print(q)\n",
    "\n",
    "    num_batch = int(N/T)\n",
    "    num_sel_batch = int(K/T)\n",
    "\n",
    "#     print(num_batch, num_sel_batch)\n",
    "\n",
    "    prob = 0\n",
    "\n",
    "    stt = num_batch-num_sel_batch+1\n",
    "    # stt = 0\n",
    "\n",
    "    for i in range(stt, num_batch+1):\n",
    "\n",
    "        tmp = ncr(num_batch, i) * (q**i) * ((1-q)**(num_batch-i))\n",
    "        prob += tmp\n",
    "        \n",
    "    print(T, 1-prob)\n",
    "    prob_array.append(1-prob)\n",
    "    print()\n",
    "    \n",
    "    \n",
    "#     print(1-prob)"
   ]
  },
  {
   "cell_type": "code",
   "execution_count": 31,
   "metadata": {},
   "outputs": [
    {
     "data": {
      "text/plain": [
       "19.94"
      ]
     },
     "execution_count": 31,
     "metadata": {},
     "output_type": "execute_result"
    }
   ],
   "source": [
    "20*0.997"
   ]
  },
  {
   "cell_type": "code",
   "execution_count": null,
   "metadata": {},
   "outputs": [],
   "source": []
  }
 ],
 "metadata": {
  "kernelspec": {
   "display_name": "Python 3",
   "language": "python",
   "name": "python3"
  },
  "language_info": {
   "codemirror_mode": {
    "name": "ipython",
    "version": 3
   },
   "file_extension": ".py",
   "mimetype": "text/x-python",
   "name": "python",
   "nbconvert_exporter": "python",
   "pygments_lexer": "ipython3",
   "version": "3.7.6"
  }
 },
 "nbformat": 4,
 "nbformat_minor": 2
}
